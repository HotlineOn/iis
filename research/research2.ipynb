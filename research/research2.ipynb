{
 "cells": [
  {
   "cell_type": "code",
   "execution_count": 2,
   "metadata": {},
   "outputs": [],
   "source": [
    "import pickle\n",
    "from sklearn.model_selection import train_test_split\n",
    "from sklearn.pipeline import Pipeline\n",
    "from sklearn.preprocessing import StandardScaler, OrdinalEncoder, SplineTransformer, PolynomialFeatures\n",
    "from sklearn.ensemble import RandomForestRegressor\n",
    "from sklearn.compose import ColumnTransformer\n",
    "from sklearn.metrics import mean_absolute_percentage_error, mean_absolute_error, root_mean_squared_error\n",
    "import mlflow\n",
    "from mlflow.models import infer_signature"
   ]
  },
  {
   "cell_type": "code",
   "execution_count": 3,
   "metadata": {},
   "outputs": [],
   "source": [
    "with open('../data/dataset.pkl', 'rb') as handle:\n",
    "    df = pickle.load(handle)"
   ]
  },
  {
   "cell_type": "code",
   "execution_count": 4,
   "metadata": {},
   "outputs": [],
   "source": [
    "df = df.rename(columns={'salary_in_usd': 'target'})\n",
    "X = df.drop('target', axis=1)\n",
    "y = df['target']"
   ]
  },
  {
   "cell_type": "code",
   "execution_count": 5,
   "metadata": {},
   "outputs": [],
   "source": [
    "X_train, X_test, y_train, y_test = train_test_split(X, y, test_size=0.25)"
   ]
  },
  {
   "cell_type": "code",
   "execution_count": 6,
   "metadata": {},
   "outputs": [
    {
     "name": "stdout",
     "output_type": "stream",
     "text": [
      "['work_year', 'remote_ratio']\n",
      "['experience_level', 'employment_type', 'job_title', 'employee_residence', 'company_location', 'company_size']\n"
     ]
    }
   ],
   "source": [
    "num_features = X.select_dtypes(include=['number']).columns.to_list()\n",
    "print(num_features)\n",
    "cat_features = X.select_dtypes(include=['category']).columns.to_list()\n",
    "print(cat_features)"
   ]
  },
  {
   "cell_type": "code",
   "execution_count": 7,
   "metadata": {},
   "outputs": [
    {
     "data": {
      "text/plain": [
       "array([[1.000000e+00, 2.022000e+03, 1.000000e+02, 4.088484e+06,\n",
       "        2.022000e+05, 1.000000e+04],\n",
       "       [1.000000e+00, 2.020000e+03, 1.000000e+02, 4.080400e+06,\n",
       "        2.020000e+05, 1.000000e+04],\n",
       "       [1.000000e+00, 2.022000e+03, 1.000000e+02, 4.088484e+06,\n",
       "        2.022000e+05, 1.000000e+04],\n",
       "       ...,\n",
       "       [1.000000e+00, 2.022000e+03, 1.000000e+02, 4.088484e+06,\n",
       "        2.022000e+05, 1.000000e+04],\n",
       "       [1.000000e+00, 2.023000e+03, 0.000000e+00, 4.092529e+06,\n",
       "        0.000000e+00, 0.000000e+00],\n",
       "       [1.000000e+00, 2.022000e+03, 1.000000e+02, 4.088484e+06,\n",
       "        2.022000e+05, 1.000000e+04]])"
      ]
     },
     "execution_count": 7,
     "metadata": {},
     "output_type": "execute_result"
    }
   ],
   "source": [
    "pf = PolynomialFeatures(degree=2)\n",
    "pf.fit_transform(X_train[['work_year', 'remote_ratio']])"
   ]
  },
  {
   "cell_type": "code",
   "execution_count": 8,
   "metadata": {},
   "outputs": [],
   "source": [
    "sp = SplineTransformer(n_knots=3, degree=3)\n",
    "sp.fit_transform()"
   ]
  }
 ],
 "metadata": {
  "kernelspec": {
   "display_name": "venv_iis",
   "language": "python",
   "name": "python3"
  },
  "language_info": {
   "codemirror_mode": {
    "name": "ipython",
    "version": 3
   },
   "file_extension": ".py",
   "mimetype": "text/x-python",
   "name": "python",
   "nbconvert_exporter": "python",
   "pygments_lexer": "ipython3",
   "version": "3.10.12"
  }
 },
 "nbformat": 4,
 "nbformat_minor": 2
}
